{
 "cells": [
  {
   "cell_type": "markdown",
   "metadata": {},
   "source": [
    "## 1번 문제"
   ]
  },
  {
   "cell_type": "code",
   "execution_count": 45,
   "metadata": {},
   "outputs": [
    {
     "name": "stdout",
     "output_type": "stream",
     "text": [
      "113.09733552923255\n"
     ]
    }
   ],
   "source": [
    "from math import pi\n",
    "\n",
    "r = int(input('반지름 입력 > '))\n",
    "print(pi * r**2)"
   ]
  },
  {
   "cell_type": "markdown",
   "metadata": {},
   "source": [
    "## 2번 문제"
   ]
  },
  {
   "cell_type": "code",
   "execution_count": 44,
   "metadata": {},
   "outputs": [
    {
     "name": "stdout",
     "output_type": "stream",
     "text": [
      "화성\n"
     ]
    }
   ],
   "source": [
    "# 2번 문제\n",
    "planet_name = input('태양계 행성 이름 입력 > ')\n",
    "\n",
    "planet_name = planet_name.lower()\n",
    "planet_name = planet_name.capitalize()  # 대소문자 관계없이 받기 위해\n",
    "\n",
    "if planet_name == 'Mercury':\n",
    "    print('수성') \n",
    "\n",
    "if planet_name == 'Venus':\n",
    "    print('금성') \n",
    "\n",
    "if planet_name == 'Earth':\n",
    "    print('지구') \n",
    "\n",
    "if planet_name == 'Mars':\n",
    "    print('화성') \n",
    "\n",
    "if planet_name == 'Jupiter':\n",
    "    print('목성') \n",
    "\n",
    "if planet_name == 'Saturn':\n",
    "    print('토성') \n",
    "\n",
    "if planet_name == 'Uranus':\n",
    "    print('천왕성') \n",
    "\n",
    "if planet_name == 'Neptune':\n",
    "    print('해왕성') \n",
    "\n",
    "# 딕셔너리 방법\n",
    "# solar = {'수성' : 'Mercury', '금성' : 'Venus', '지구' : 'Earth', '화성' : 'Mars', '목성' : 'Jupiter', '토성' : 'Saturn', '천왕성' : 'Uranus', '해왕성' : 'Neptune'} \n",
    "# kname = input('행성이름 > ')\n",
    "# print(solar[kname])"
   ]
  },
  {
   "cell_type": "markdown",
   "metadata": {},
   "source": [
    "## 3번 문제"
   ]
  },
  {
   "cell_type": "code",
   "execution_count": 4,
   "metadata": {},
   "outputs": [
    {
     "name": "stdout",
     "output_type": "stream",
     "text": [
      "단어의 수 : 7\n",
      "[\"I'm\", 'GOING', 'to', 'LEAVE', 'the', 'DOOR', 'open']\n",
      "I'm GOING to LEAVE the DOOR open "
     ]
    }
   ],
   "source": [
    "# 3번 문제\n",
    "\n",
    "# I'm going to leave the door open\n",
    "str_name = input('영어 입력 > ')\n",
    "\n",
    "lst = str_name.split(' ')   # 단어로 쪼개서 리스트에 넣기\n",
    "print(f'단어의 수 : {len(lst)}') # 리스트 요소 갯수\n",
    "\n",
    "lst_upper = []\n",
    "\n",
    "for i in range(len(lst)):      # lst_upper에 lst 요소 중 홀수는 그대로 넣고 짝수는 대문자로 바꿔서 넣기\n",
    "    if i % 2 == 0:\n",
    "        lst_upper.append(lst[i])\n",
    "    else: \n",
    "        lst_upper.append(lst[i].upper())\n",
    "\n",
    "print(lst_upper)\n",
    "\n",
    "for i in range(len(lst_upper)):\n",
    "    print (f'{lst_upper[i]}',end =' ')\n",
    "\n",
    "# str_upper = ' '.join(lst_upper) # 리스트를 문자열로 변환\n",
    "# print(str_upper)\n",
    "\n",
    "\n",
    "# 다른방법    \n",
    "# sentence = input('영어 입력 > ')\n",
    "\n",
    "# lst = sentence.split(' ')   # 단어로 쪼개서 리스트에 넣기\n",
    "# print(f'단어의 수 : {len(lst)}') # 리스트 요소 갯수\n",
    "\n",
    "# num = 1\n",
    "# for i in lst:\n",
    "#     if num % 2 == 0:\n",
    "#         print(i.upper(), end=' ')\n",
    "#     else:\n",
    "#         print(i, end=' ')\n",
    "#     num += 1"
   ]
  },
  {
   "cell_type": "markdown",
   "metadata": {},
   "source": [
    "## 4번 문제"
   ]
  },
  {
   "cell_type": "code",
   "execution_count": 50,
   "metadata": {},
   "outputs": [
    {
     "name": "stdout",
     "output_type": "stream",
     "text": [
      "www.google.com\n"
     ]
    }
   ],
   "source": [
    "# 4번 문제\n",
    "\n",
    "def get_url(Web):\n",
    "    Web = Web.lower()\n",
    "    Web = 'www.' + Web + '.com'\n",
    "    return Web\n",
    "\n",
    "Web = input('웹 이름 입력 > ')\n",
    "\n",
    "url = get_url(Web) \n",
    "print(url) # www.google.com"
   ]
  },
  {
   "cell_type": "markdown",
   "metadata": {},
   "source": [
    "## 5번 문제"
   ]
  },
  {
   "cell_type": "code",
   "execution_count": 52,
   "metadata": {},
   "outputs": [
    {
     "name": "stdout",
     "output_type": "stream",
     "text": [
      "5 * 1 = 5\n",
      "5 * 2 = 10\n",
      "5 * 3 = 15\n",
      "5 * 4 = 20\n",
      "5 * 5 = 25\n",
      "5 * 6 = 30\n",
      "5 * 7 = 35\n",
      "5 * 8 = 40\n",
      "5 * 9 = 45\n"
     ]
    }
   ],
   "source": [
    "# 5번 문제\n",
    "\n",
    "dan = int(input('단 수 입력 > '))\n",
    "\n",
    "for i in range(1, 10): \n",
    "    print(dan, '*', i, '=', dan * i)"
   ]
  }
 ],
 "metadata": {
  "kernelspec": {
   "display_name": "Python 3",
   "language": "python",
   "name": "python3"
  },
  "language_info": {
   "codemirror_mode": {
    "name": "ipython",
    "version": 3
   },
   "file_extension": ".py",
   "mimetype": "text/x-python",
   "name": "python",
   "nbconvert_exporter": "python",
   "pygments_lexer": "ipython3",
   "version": "3.11.5"
  }
 },
 "nbformat": 4,
 "nbformat_minor": 2
}
